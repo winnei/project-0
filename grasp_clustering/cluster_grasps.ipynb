{
 "cells": [
  {
   "cell_type": "code",
   "execution_count": 1,
   "metadata": {},
   "outputs": [],
   "source": [
    "##########################################\n",
    "##### WRITE YOUR CODE IN THIS FILE #######\n",
    "##########################################\n",
    "import os\n",
    "import numpy as np\n",
    "import sklearn\n",
    "from sklearn.cluster import KMeans\n",
    "\n",
    "from load_data import load_data"
   ]
  },
  {
   "cell_type": "code",
   "execution_count": 2,
   "metadata": {},
   "outputs": [],
   "source": [
    "# print(np.shape(training_data))\n",
    "#Data consists of 5 15 columns, 2820 rows\n",
    "#15 dimensional space (15 variables, refering to different joint angles)\n",
    "#2820 points representing 2820 hand positions\n",
    "#see if these 2820 points cluster together"
   ]
  },
  {
   "cell_type": "code",
   "execution_count": 7,
   "metadata": {},
   "outputs": [],
   "source": [
    "# training_data[0:10,0] #first 10 entries of 1st column\n",
    "training_data_path=os.environ['TRAIN_DATA_PATH']\n",
    "training_data=load_data(training_data_path)\n",
    "        "
   ]
  },
  {
   "cell_type": "code",
   "execution_count": 4,
   "metadata": {},
   "outputs": [],
   "source": [
    "#create Class: \n",
    "class GraspClustering:\n",
    "    \n",
    "    def train(self):\n",
    "        #load training_data and train - try diff k, get sum of sq errors\n",
    "        #store fitted model \n",
    "        print('train!')\n",
    "        \n",
    "        training_data_path=os.environ['TRAIN_DATA_PATH']\n",
    "        training_data=load_data(training_data_path)\n",
    "        \n",
    "        k_range=range(1,10)\n",
    "        sse=[]  #sum of squared error\n",
    "        diffls=[0]  #list of differences in squared error\n",
    "        best_k=1   #best no of clusters\n",
    "        \n",
    "        for k in k_range:\n",
    "            cluster=KMeans(n_clusters=k,random_state=5)  #repeat fitting for k range\n",
    "            cluster.fit(training_data)\n",
    "            sse.append(cluster.inertia_)  #inertia gives within cluster sum of squares\n",
    "        print(sse)\n",
    "        \n",
    "        \n",
    "        for i in range(len(sse)-1):\n",
    "            diff=sse[i]-sse[i+1]\n",
    "            diffls.append(diff)\n",
    "            \n",
    "        for i in range(len(sse)-1):\n",
    "            print('current diff is %5.2f and first diff is %5.2f' %(diffls[i+1],diffls[1]))\n",
    "            if diffls[i+1]<0.3*(diffls[1]):\n",
    "                break;\n",
    "            else:\n",
    "                best_k+=1\n",
    "                print(best_k)\n",
    "            \n",
    "        #print(diffls)\n",
    "        \n",
    "        fittedmodel=KMeans(n_clusters=best_k,random_state=5)\n",
    "        fittedmodel.fit(training_data)\n",
    "        self.fittedmodel=fittedmodel\n",
    "        \n",
    "        \n",
    "    def predict(self,test_data):\n",
    "        #Calls fitted model\n",
    "        #loads new data: test_data and predicts cluster labels\n",
    "        #return 1 column vector with N rows (for N points in test_data)\n",
    "        print('test!')\n",
    "        \n",
    "        fittedmodel=self.fittedmodel\n",
    "        \n",
    "        labels=fittedmodel.predict(test_data)\n",
    "        print(labels[0:100])\n",
    "        return(labels)\n",
    "        "
   ]
  },
  {
   "cell_type": "code",
   "execution_count": 5,
   "metadata": {},
   "outputs": [
    {
     "name": "stdout",
     "output_type": "stream",
     "text": [
      "train!\n",
      "[245.3849336958429, 170.92347762775282, 110.70763044515162, 87.67018482962962, 74.04704234357419, 63.7913396944479, 57.07357770184628, 52.77722678866915, 48.90352100047258]\n",
      "current diff is 74.46 and first diff is 74.46\n",
      "2\n",
      "current diff is 60.22 and first diff is 74.46\n",
      "3\n",
      "current diff is 23.04 and first diff is 74.46\n",
      "4\n",
      "current diff is 13.62 and first diff is 74.46\n"
     ]
    }
   ],
   "source": [
    "model=GraspClustering()\n",
    "#run: \n",
    "model.train() #and model.predict(test_data)"
   ]
  },
  {
   "cell_type": "code",
   "execution_count": 8,
   "metadata": {},
   "outputs": [
    {
     "name": "stdout",
     "output_type": "stream",
     "text": [
      "test!\n",
      "[1 1 1 1 1 1 1 1 1 1 1 1 1 1 1 1 1 1 1 1 1 1 1 1 1 1 1 1 1 1 0 1 1 1 1 1 1\n",
      " 1 1 1 1 1 1 1 1 1 1 1 1 1 1 1 1 1 1 1 1 1 1 1 1 1 1 1 1 1 1 1 1 1 1 1 1 1\n",
      " 1 1 1 1 1 1 1 1 1 1 1 1 1 1 1 0 0 0 0 0 1 1 1 1 1 1]\n"
     ]
    },
    {
     "data": {
      "text/plain": [
       "array([1, 1, 1, ..., 0, 0, 0], dtype=int32)"
      ]
     },
     "execution_count": 8,
     "metadata": {},
     "output_type": "execute_result"
    }
   ],
   "source": [
    "model.predict(training_data)"
   ]
  },
  {
   "cell_type": "code",
   "execution_count": 158,
   "metadata": {},
   "outputs": [
    {
     "name": "stdout",
     "output_type": "stream",
     "text": [
      "(2820,)\n"
     ]
    }
   ],
   "source": [
    "print(np.shape(labels))"
   ]
  },
  {
   "cell_type": "code",
   "execution_count": 3,
   "metadata": {},
   "outputs": [
    {
     "name": "stdout",
     "output_type": "stream",
     "text": [
      "range(1, 10)\n"
     ]
    }
   ],
   "source": [
    "print(range(1, 10))"
   ]
  },
  {
   "cell_type": "code",
   "execution_count": 4,
   "metadata": {},
   "outputs": [
    {
     "name": "stdout",
     "output_type": "stream",
     "text": [
      "1\n",
      "2\n",
      "3\n",
      "4\n",
      "5\n",
      "6\n",
      "7\n",
      "8\n",
      "9\n"
     ]
    }
   ],
   "source": [
    "for i in range(1,10):\n",
    "    print(i)"
   ]
  },
  {
   "cell_type": "code",
   "execution_count": 5,
   "metadata": {},
   "outputs": [
    {
     "name": "stdout",
     "output_type": "stream",
     "text": [
      "1\n",
      "2\n",
      "3\n",
      "4\n",
      "5\n",
      "6\n",
      "7\n",
      "8\n"
     ]
    }
   ],
   "source": [
    "for i in range(1,9):\n",
    "    print(i)"
   ]
  },
  {
   "cell_type": "code",
   "execution_count": null,
   "metadata": {},
   "outputs": [],
   "source": []
  }
 ],
 "metadata": {
  "kernelspec": {
   "display_name": "Python 3",
   "language": "python",
   "name": "python3"
  },
  "language_info": {
   "codemirror_mode": {
    "name": "ipython",
    "version": 3
   },
   "file_extension": ".py",
   "mimetype": "text/x-python",
   "name": "python",
   "nbconvert_exporter": "python",
   "pygments_lexer": "ipython3",
   "version": "3.6.9"
  }
 },
 "nbformat": 4,
 "nbformat_minor": 4
}
